{
 "cells": [
  {
   "cell_type": "code",
   "execution_count": 3,
   "metadata": {},
   "outputs": [],
   "source": [
    "import requests\n",
    "import pandas as pd"
   ]
  },
  {
   "cell_type": "code",
   "execution_count": 6,
   "metadata": {},
   "outputs": [],
   "source": [
    "# replace the \"demo\" apikey below with your own key from https://www.alphavantage.co/support/#api-key\n",
    "url = 'https://www.alphavantage.co/query?function=TIME_SERIES_DAILY&outputsize=full&symbol=IBM&apikey=BCMW4XEPG0SP5IOT'\n",
    "r = requests.get(url)\n",
    "data = r.json()"
   ]
  },
  {
   "cell_type": "code",
   "execution_count": 8,
   "metadata": {},
   "outputs": [
    {
     "data": {
      "text/html": [
       "<div>\n",
       "<style scoped>\n",
       "    .dataframe tbody tr th:only-of-type {\n",
       "        vertical-align: middle;\n",
       "    }\n",
       "\n",
       "    .dataframe tbody tr th {\n",
       "        vertical-align: top;\n",
       "    }\n",
       "\n",
       "    .dataframe thead th {\n",
       "        text-align: right;\n",
       "    }\n",
       "</style>\n",
       "<table border=\"1\" class=\"dataframe\">\n",
       "  <thead>\n",
       "    <tr style=\"text-align: right;\">\n",
       "      <th></th>\n",
       "      <th>Date</th>\n",
       "      <th>Open</th>\n",
       "      <th>High</th>\n",
       "      <th>Low</th>\n",
       "      <th>Close</th>\n",
       "      <th>Volume</th>\n",
       "    </tr>\n",
       "  </thead>\n",
       "  <tbody>\n",
       "    <tr>\n",
       "      <th>0</th>\n",
       "      <td>2023-11-22</td>\n",
       "      <td>154.50</td>\n",
       "      <td>155.705</td>\n",
       "      <td>154.1600</td>\n",
       "      <td>155.13</td>\n",
       "      <td>3045091</td>\n",
       "    </tr>\n",
       "    <tr>\n",
       "      <th>1</th>\n",
       "      <td>2023-11-21</td>\n",
       "      <td>154.60</td>\n",
       "      <td>154.660</td>\n",
       "      <td>153.5100</td>\n",
       "      <td>153.91</td>\n",
       "      <td>2859508</td>\n",
       "    </tr>\n",
       "    <tr>\n",
       "      <th>2</th>\n",
       "      <td>2023-11-20</td>\n",
       "      <td>152.51</td>\n",
       "      <td>154.680</td>\n",
       "      <td>152.3500</td>\n",
       "      <td>154.35</td>\n",
       "      <td>3658936</td>\n",
       "    </tr>\n",
       "    <tr>\n",
       "      <th>3</th>\n",
       "      <td>2023-11-17</td>\n",
       "      <td>153.29</td>\n",
       "      <td>153.500</td>\n",
       "      <td>152.4601</td>\n",
       "      <td>152.89</td>\n",
       "      <td>4426676</td>\n",
       "    </tr>\n",
       "    <tr>\n",
       "      <th>4</th>\n",
       "      <td>2023-11-16</td>\n",
       "      <td>153.00</td>\n",
       "      <td>153.350</td>\n",
       "      <td>152.1300</td>\n",
       "      <td>153.06</td>\n",
       "      <td>3519172</td>\n",
       "    </tr>\n",
       "  </tbody>\n",
       "</table>\n",
       "</div>"
      ],
      "text/plain": [
       "         Date    Open     High       Low   Close   Volume\n",
       "0  2023-11-22  154.50  155.705  154.1600  155.13  3045091\n",
       "1  2023-11-21  154.60  154.660  153.5100  153.91  2859508\n",
       "2  2023-11-20  152.51  154.680  152.3500  154.35  3658936\n",
       "3  2023-11-17  153.29  153.500  152.4601  152.89  4426676\n",
       "4  2023-11-16  153.00  153.350  152.1300  153.06  3519172"
      ]
     },
     "execution_count": 8,
     "metadata": {},
     "output_type": "execute_result"
    }
   ],
   "source": [
    "time_series_data = data['Time Series (Daily)']\n",
    "\n",
    "# Converting to a DataFrame\n",
    "df = pd.DataFrame.from_dict(time_series_data, orient='index')\n",
    "df.index.name = 'Date'\n",
    "df.reset_index(inplace=True)\n",
    "\n",
    "# Converting string values to numeric\n",
    "df = df.apply(pd.to_numeric, errors='ignore')\n",
    "\n",
    "# Renaming the columns by removing the number and period from the column names\n",
    "df.columns = [col.split('. ')[1].capitalize() if '. ' in col else col for col in df.columns]\n",
    "\n",
    "df.head()"
   ]
  },
  {
   "cell_type": "code",
   "execution_count": 11,
   "metadata": {},
   "outputs": [
    {
     "data": {
      "text/plain": [
       "6055"
      ]
     },
     "execution_count": 11,
     "metadata": {},
     "output_type": "execute_result"
    }
   ],
   "source": [
    "len(df)"
   ]
  },
  {
   "cell_type": "code",
   "execution_count": null,
   "metadata": {},
   "outputs": [],
   "source": []
  }
 ],
 "metadata": {
  "kernelspec": {
   "display_name": "venv",
   "language": "python",
   "name": "python3"
  },
  "language_info": {
   "codemirror_mode": {
    "name": "ipython",
    "version": 3
   },
   "file_extension": ".py",
   "mimetype": "text/x-python",
   "name": "python",
   "nbconvert_exporter": "python",
   "pygments_lexer": "ipython3",
   "version": "3.9.18"
  }
 },
 "nbformat": 4,
 "nbformat_minor": 2
}
